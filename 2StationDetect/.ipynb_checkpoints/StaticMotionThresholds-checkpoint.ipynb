{
 "cells": [
  {
   "cell_type": "code",
   "execution_count": 1,
   "metadata": {},
   "outputs": [],
   "source": [
    "import pandas as pd\n",
    "import numpy as np\n",
    "import matplotlib.pyplot as plt"
   ]
  },
  {
   "cell_type": "code",
   "execution_count": 2,
   "metadata": {
    "scrolled": true
   },
   "outputs": [],
   "source": [
    "std = pd.read_csv('2.csv', index_col = None, header = None)"
   ]
  },
  {
   "cell_type": "code",
   "execution_count": 3,
   "metadata": {},
   "outputs": [],
   "source": [
    "std[0]=(1.0*(std[0] - std[0][0]) /1000000000).astype('float');"
   ]
  },
  {
   "cell_type": "markdown",
   "metadata": {},
   "source": [
    "### Acceleration"
   ]
  },
  {
   "cell_type": "code",
   "execution_count": 4,
   "metadata": {},
   "outputs": [],
   "source": [
    "std_acc = std[std[1]==' ACC_UN']"
   ]
  },
  {
   "cell_type": "code",
   "execution_count": 5,
   "metadata": {
    "scrolled": true
   },
   "outputs": [],
   "source": [
    "acc_x = std_acc[2].values\n",
    "acc_y = std_acc[3].values\n",
    "acc_z = std_acc[4].values"
   ]
  },
  {
   "cell_type": "code",
   "execution_count": 6,
   "metadata": {},
   "outputs": [],
   "source": [
    "acc_t = std_acc[0].values"
   ]
  },
  {
   "cell_type": "code",
   "execution_count": 7,
   "metadata": {
    "scrolled": true
   },
   "outputs": [
    {
     "data": {
      "text/plain": [
       "Text(0,0.5,u'acceleration (m/s^2)')"
      ]
     },
     "execution_count": 7,
     "metadata": {},
     "output_type": "execute_result"
    },
    {
     "data": {
      "image/png": "[encoded data removed]",
      "text/plain": [
       "<matplotlib.figure.Figure at 0x11430a050>"
      ]
     },
     "metadata": {},
     "output_type": "display_data"
    }
   ],
   "source": [
    "plt.plot(acc_t, acc_x)\n",
    "plt.plot(acc_t, acc_y)\n",
    "plt.plot(acc_t, acc_z)\n",
    "plt.legend(['acc x','acc y','acc z'], loc = 'upper right')\n",
    "plt.xlabel('time (s)')\n",
    "plt.ylabel('acceleration (m/s^2)')"
   ]
  },
  {
   "cell_type": "markdown",
   "metadata": {},
   "source": [
    "### Gyroscope"
   ]
  },
  {
   "cell_type": "code",
   "execution_count": 8,
   "metadata": {},
   "outputs": [],
   "source": [
    "std_gyro = std[std[1]==' GYRO_UN']"
   ]
  },
  {
   "cell_type": "code",
   "execution_count": 9,
   "metadata": {
    "scrolled": true
   },
   "outputs": [],
   "source": [
    "gyro_x = std_gyro[2].values\n",
    "gyro_y = std_gyro[3].values\n",
    "gyro_z = std_gyro[4].values"
   ]
  },
  {
   "cell_type": "code",
   "execution_count": 10,
   "metadata": {},
   "outputs": [],
   "source": [
    "gyro_t = std_gyro[0].values"
   ]
  },
  {
   "cell_type": "code",
   "execution_count": 11,
   "metadata": {},
   "outputs": [
    {
     "data": {
      "text/plain": [
       "Text(0,0.5,u'angular velocity (rad/s)')"
      ]
     },
     "execution_count": 11,
     "metadata": {},
     "output_type": "execute_result"
    },
    {
     "data": {
      "image/png": "[encoded data removed]",
      "text/plain": [
       "<matplotlib.figure.Figure at 0x114321410>"
      ]
     },
     "metadata": {},
     "output_type": "display_data"
    }
   ],
   "source": [
    "plt.plot(gyro_t, gyro_x)\n",
    "plt.plot(gyro_t, gyro_y)\n",
    "plt.plot(gyro_t, gyro_z)\n",
    "plt.legend(['gyro x','gyro y','gyro z'], loc = 'upper right')\n",
    "plt.xlabel('time (s)')\n",
    "plt.ylabel('angular velocity (rad/s)')"
   ]
  },
  {
   "cell_type": "markdown",
   "metadata": {},
   "source": [
    "### Stability Detection"
   ]
  },
  {
   "cell_type": "code",
   "execution_count": 12,
   "metadata": {},
   "outputs": [
    {
     "data": {
      "text/plain": [
       "0.2619958441102761"
      ]
     },
     "execution_count": 12,
     "metadata": {},
     "output_type": "execute_result"
    }
   ],
   "source": [
    "g = np.mean(acc_z)\n",
    "g"
   ]
  },
  {
   "cell_type": "code",
   "execution_count": 13,
   "metadata": {},
   "outputs": [],
   "source": [
    "#w_min = 0.3\n",
    "w_max = 1.1"
   ]
  },
  {
   "cell_type": "code",
   "execution_count": 14,
   "metadata": {},
   "outputs": [],
   "source": [
    "std_acc  = np.zeros(len(acc_t))\n",
    "std_gyro = np.zeros(len(acc_t))"
   ]
  },
  {
   "cell_type": "code",
   "execution_count": 15,
   "metadata": {},
   "outputs": [],
   "source": [
    "std_static  = np.zeros(len(acc_t))\n",
    "std_static_quasi  = np.zeros(len(acc_t))\n",
    "std_static_semi  = np.zeros(len(acc_t))\n",
    "std_static_total  = np.zeros(len(acc_t))"
   ]
  },
  {
   "cell_type": "code",
   "execution_count": null,
   "metadata": {},
   "outputs": [],
   "source": [
    "i = 0\n",
    "while(acc_t[i] + w_max < round(acc_t[-1])):\n",
    "        \n",
    "        # increase to max window size\n",
    "        std_part = std[std[0] < (acc_t[i] + w_max)]\n",
    "        std_part = std_part[std_part[0] > acc_t[i]]\n",
    "\n",
    "        # accleration in the max window rnage\n",
    "        acc_part = std_part[std_part[1]==' ACC_UN']\n",
    "        acc_part_x = acc_part[2].values\n",
    "        acc_part_y = acc_part[3].values\n",
    "        acc_part_z = acc_part[4].values\n",
    "        \n",
    "        std_acc_x = np.std(acc_part_x) # std of accx\n",
    "        std_acc_y = np.std(acc_part_y) # std of accy\n",
    "        std_acc_z = np.std(acc_part_z) # std of accz\n",
    "\n",
    "        std_acc[i] = np.sqrt(std_acc_x**2 + std_acc_y**2 + std_acc_z**2)\n",
    "        \n",
    "        # gyroscope in the max window range\n",
    "        gyro_part = std_part[std_part[1]==' GYRO_UN']\n",
    "        gyro_part_x = gyro_part[2].values\n",
    "        gyro_part_y = gyro_part[3].values\n",
    "        gyro_part_z = gyro_part[4].values\n",
    "        \n",
    "        std_gyro_x = np.std(gyro_part_x) # std of gyrox\n",
    "        std_gyro_y = np.std(gyro_part_y) # std of gyrox\n",
    "        std_gyro_z = np.std(gyro_part_z) # std of gyrox\n",
    "\n",
    "        std_gyro[i] = np.sqrt(std_gyro_x**2 + std_gyro_y**2 + std_gyro_z**2)\n",
    "        \n",
    "        ## update parameters\n",
    "        if std_acc[i] < 0.37 and std_gyro[i] < 0.015:\n",
    "            std_static[i] = 1\n",
    "            \n",
    "        if std_acc[i] < 1 and std_acc[i] >= 0.3 and std_gyro[i] < 0.5 and std_gyro[i] >= 0.1:\n",
    "            std_static_semi[i] = 1\n",
    "            \n",
    "        if std_acc[i] < 0.3 and std_acc[i] >= 0.1 and std_gyro[i] < 0.1 and std_gyro[i] >= 0.01:\n",
    "            std_static_quasi[i] = 1\n",
    "        \n",
    "        if std_acc[i] < 0.1 and std_gyro[i] < 0.01:\n",
    "            std_static_total[i] = 1\n",
    "    \n",
    "    ##############\n",
    "        i = i + 1"
   ]
  },
  {
   "cell_type": "code",
   "execution_count": null,
   "metadata": {},
   "outputs": [],
   "source": [
    "plt.plot(std_acc)"
   ]
  },
  {
   "cell_type": "code",
   "execution_count": null,
   "metadata": {},
   "outputs": [],
   "source": [
    "plt.plot(std_gyro)"
   ]
  },
  {
   "cell_type": "code",
   "execution_count": null,
   "metadata": {},
   "outputs": [],
   "source": [
    "plt.plot(acc_t, acc_x)\n",
    "plt.plot(acc_t, acc_y)\n",
    "plt.plot(acc_t, acc_z)\n",
    "plt.plot(acc_t,std_static*np.max(acc_y))\n",
    "plt.ylim([-8, 13])\n",
    "plt.legend(['acc x','acc y','acc z','detector'], loc = 'lower right')\n",
    "plt.xlabel('time (s)')\n",
    "plt.ylabel('acceleration (m/s^2)')\n",
    "plt.title('Detection on Not Moving')"
   ]
  },
  {
   "cell_type": "code",
   "execution_count": null,
   "metadata": {},
   "outputs": [],
   "source": []
  }
 ],
 "metadata": {
  "kernelspec": {
   "display_name": "python3.6",
   "language": "python",
   "name": "python3.6"
  },
  "language_info": {
   "codemirror_mode": {
    "name": "ipython",
    "version": 2
   },
   "file_extension": ".py",
   "mimetype": "text/x-python",
   "name": "python",
   "nbconvert_exporter": "python",
   "pygments_lexer": "ipython2",
   "version": "2.7.13"
  }
 },
 "nbformat": 4,
 "nbformat_minor": 2
}
